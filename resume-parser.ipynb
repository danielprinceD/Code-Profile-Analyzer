{
 "cells": [
  {
   "cell_type": "code",
   "execution_count": 8,
   "metadata": {},
   "outputs": [
    {
     "name": "stdout",
     "output_type": "stream",
     "text": [
      "Requirement already satisfied: pyresparser in c:\\users\\21cs0\\desktop\\excel sheet data extractor\\extractor_environ\\lib\\site-packages (1.0.6)\n",
      "Requirement already satisfied: attrs>=19.1.0 in c:\\users\\21cs0\\desktop\\excel sheet data extractor\\extractor_environ\\lib\\site-packages (from pyresparser) (23.2.0)\n",
      "Requirement already satisfied: blis>=0.2.4 in c:\\users\\21cs0\\desktop\\excel sheet data extractor\\extractor_environ\\lib\\site-packages (from pyresparser) (0.7.11)\n",
      "Requirement already satisfied: certifi>=2019.6.16 in c:\\users\\21cs0\\desktop\\excel sheet data extractor\\extractor_environ\\lib\\site-packages (from pyresparser) (2024.2.2)\n",
      "Requirement already satisfied: chardet>=3.0.4 in c:\\users\\21cs0\\desktop\\excel sheet data extractor\\extractor_environ\\lib\\site-packages (from pyresparser) (5.2.0)\n",
      "Requirement already satisfied: cymem>=2.0.2 in c:\\users\\21cs0\\desktop\\excel sheet data extractor\\extractor_environ\\lib\\site-packages (from pyresparser) (2.0.8)\n",
      "Requirement already satisfied: docx2txt>=0.7 in c:\\users\\21cs0\\desktop\\excel sheet data extractor\\extractor_environ\\lib\\site-packages (from pyresparser) (0.8)\n",
      "Requirement already satisfied: idna>=2.8 in c:\\users\\21cs0\\desktop\\excel sheet data extractor\\extractor_environ\\lib\\site-packages (from pyresparser) (3.6)\n",
      "Requirement already satisfied: jsonschema>=3.0.1 in c:\\users\\21cs0\\desktop\\excel sheet data extractor\\extractor_environ\\lib\\site-packages (from pyresparser) (4.21.1)\n",
      "Requirement already satisfied: nltk>=3.4.3 in c:\\users\\21cs0\\desktop\\excel sheet data extractor\\extractor_environ\\lib\\site-packages (from pyresparser) (3.8.1)\n",
      "Requirement already satisfied: numpy>=1.16.4 in c:\\users\\21cs0\\desktop\\excel sheet data extractor\\extractor_environ\\lib\\site-packages (from pyresparser) (1.26.2)\n",
      "Requirement already satisfied: pandas>=0.24.2 in c:\\users\\21cs0\\desktop\\excel sheet data extractor\\extractor_environ\\lib\\site-packages (from pyresparser) (2.1.3)\n",
      "Requirement already satisfied: pdfminer.six>=20181108 in c:\\users\\21cs0\\desktop\\excel sheet data extractor\\extractor_environ\\lib\\site-packages (from pyresparser) (20231228)\n",
      "Requirement already satisfied: preshed>=2.0.1 in c:\\users\\21cs0\\desktop\\excel sheet data extractor\\extractor_environ\\lib\\site-packages (from pyresparser) (3.0.9)\n",
      "Requirement already satisfied: pycryptodome>=3.8.2 in c:\\users\\21cs0\\desktop\\excel sheet data extractor\\extractor_environ\\lib\\site-packages (from pyresparser) (3.20.0)\n",
      "Requirement already satisfied: pyrsistent>=0.15.2 in c:\\users\\21cs0\\desktop\\excel sheet data extractor\\extractor_environ\\lib\\site-packages (from pyresparser) (0.20.0)\n",
      "Requirement already satisfied: python-dateutil>=2.8.0 in c:\\users\\21cs0\\desktop\\excel sheet data extractor\\extractor_environ\\lib\\site-packages (from pyresparser) (2.8.2)\n",
      "Requirement already satisfied: pytz>=2019.1 in c:\\users\\21cs0\\desktop\\excel sheet data extractor\\extractor_environ\\lib\\site-packages (from pyresparser) (2023.3.post1)\n",
      "Requirement already satisfied: requests>=2.22.0 in c:\\users\\21cs0\\desktop\\excel sheet data extractor\\extractor_environ\\lib\\site-packages (from pyresparser) (2.31.0)\n",
      "Requirement already satisfied: six>=1.12.0 in c:\\users\\21cs0\\desktop\\excel sheet data extractor\\extractor_environ\\lib\\site-packages (from pyresparser) (1.16.0)\n",
      "Requirement already satisfied: sortedcontainers>=2.1.0 in c:\\users\\21cs0\\desktop\\excel sheet data extractor\\extractor_environ\\lib\\site-packages (from pyresparser) (2.4.0)\n",
      "Requirement already satisfied: spacy>=2.1.4 in c:\\users\\21cs0\\desktop\\excel sheet data extractor\\extractor_environ\\lib\\site-packages (from pyresparser) (3.7.4)\n",
      "Requirement already satisfied: srsly>=0.0.7 in c:\\users\\21cs0\\desktop\\excel sheet data extractor\\extractor_environ\\lib\\site-packages (from pyresparser) (2.4.8)\n",
      "Requirement already satisfied: thinc>=7.0.4 in c:\\users\\21cs0\\desktop\\excel sheet data extractor\\extractor_environ\\lib\\site-packages (from pyresparser) (8.2.3)\n",
      "Requirement already satisfied: tqdm>=4.32.2 in c:\\users\\21cs0\\desktop\\excel sheet data extractor\\extractor_environ\\lib\\site-packages (from pyresparser) (4.66.2)\n",
      "Requirement already satisfied: urllib3>=1.25.3 in c:\\users\\21cs0\\desktop\\excel sheet data extractor\\extractor_environ\\lib\\site-packages (from pyresparser) (2.2.1)\n",
      "Requirement already satisfied: wasabi>=0.2.2 in c:\\users\\21cs0\\desktop\\excel sheet data extractor\\extractor_environ\\lib\\site-packages (from pyresparser) (1.1.2)\n",
      "Requirement already satisfied: jsonschema-specifications>=2023.03.6 in c:\\users\\21cs0\\desktop\\excel sheet data extractor\\extractor_environ\\lib\\site-packages (from jsonschema>=3.0.1->pyresparser) (2023.12.1)\n",
      "Requirement already satisfied: referencing>=0.28.4 in c:\\users\\21cs0\\desktop\\excel sheet data extractor\\extractor_environ\\lib\\site-packages (from jsonschema>=3.0.1->pyresparser) (0.33.0)\n",
      "Requirement already satisfied: rpds-py>=0.7.1 in c:\\users\\21cs0\\desktop\\excel sheet data extractor\\extractor_environ\\lib\\site-packages (from jsonschema>=3.0.1->pyresparser) (0.18.0)\n",
      "Requirement already satisfied: click in c:\\users\\21cs0\\desktop\\excel sheet data extractor\\extractor_environ\\lib\\site-packages (from nltk>=3.4.3->pyresparser) (8.1.7)\n",
      "Requirement already satisfied: joblib in c:\\users\\21cs0\\desktop\\excel sheet data extractor\\extractor_environ\\lib\\site-packages (from nltk>=3.4.3->pyresparser) (1.3.2)\n",
      "Requirement already satisfied: regex>=2021.8.3 in c:\\users\\21cs0\\desktop\\excel sheet data extractor\\extractor_environ\\lib\\site-packages (from nltk>=3.4.3->pyresparser) (2023.12.25)\n",
      "Requirement already satisfied: tzdata>=2022.1 in c:\\users\\21cs0\\desktop\\excel sheet data extractor\\extractor_environ\\lib\\site-packages (from pandas>=0.24.2->pyresparser) (2023.3)\n",
      "Requirement already satisfied: charset-normalizer>=2.0.0 in c:\\users\\21cs0\\desktop\\excel sheet data extractor\\extractor_environ\\lib\\site-packages (from pdfminer.six>=20181108->pyresparser) (3.3.2)\n",
      "Requirement already satisfied: cryptography>=36.0.0 in c:\\users\\21cs0\\desktop\\excel sheet data extractor\\extractor_environ\\lib\\site-packages (from pdfminer.six>=20181108->pyresparser) (42.0.5)\n",
      "Requirement already satisfied: murmurhash<1.1.0,>=0.28.0 in c:\\users\\21cs0\\desktop\\excel sheet data extractor\\extractor_environ\\lib\\site-packages (from preshed>=2.0.1->pyresparser) (1.0.10)\n",
      "Requirement already satisfied: spacy-legacy<3.1.0,>=3.0.11 in c:\\users\\21cs0\\desktop\\excel sheet data extractor\\extractor_environ\\lib\\site-packages (from spacy>=2.1.4->pyresparser) (3.0.12)\n",
      "Requirement already satisfied: spacy-loggers<2.0.0,>=1.0.0 in c:\\users\\21cs0\\desktop\\excel sheet data extractor\\extractor_environ\\lib\\site-packages (from spacy>=2.1.4->pyresparser) (1.0.5)\n",
      "Requirement already satisfied: catalogue<2.1.0,>=2.0.6 in c:\\users\\21cs0\\desktop\\excel sheet data extractor\\extractor_environ\\lib\\site-packages (from spacy>=2.1.4->pyresparser) (2.0.10)\n",
      "Requirement already satisfied: weasel<0.4.0,>=0.1.0 in c:\\users\\21cs0\\desktop\\excel sheet data extractor\\extractor_environ\\lib\\site-packages (from spacy>=2.1.4->pyresparser) (0.3.4)\n",
      "Requirement already satisfied: typer<0.10.0,>=0.3.0 in c:\\users\\21cs0\\desktop\\excel sheet data extractor\\extractor_environ\\lib\\site-packages (from spacy>=2.1.4->pyresparser) (0.9.0)\n",
      "Requirement already satisfied: smart-open<7.0.0,>=5.2.1 in c:\\users\\21cs0\\desktop\\excel sheet data extractor\\extractor_environ\\lib\\site-packages (from spacy>=2.1.4->pyresparser) (6.4.0)\n",
      "Requirement already satisfied: pydantic!=1.8,!=1.8.1,<3.0.0,>=1.7.4 in c:\\users\\21cs0\\desktop\\excel sheet data extractor\\extractor_environ\\lib\\site-packages (from spacy>=2.1.4->pyresparser) (2.6.2)\n",
      "Requirement already satisfied: jinja2 in c:\\users\\21cs0\\desktop\\excel sheet data extractor\\extractor_environ\\lib\\site-packages (from spacy>=2.1.4->pyresparser) (3.1.3)\n",
      "Requirement already satisfied: setuptools in c:\\users\\21cs0\\desktop\\excel sheet data extractor\\extractor_environ\\lib\\site-packages (from spacy>=2.1.4->pyresparser) (65.5.0)\n",
      "Requirement already satisfied: packaging>=20.0 in c:\\users\\21cs0\\desktop\\excel sheet data extractor\\extractor_environ\\lib\\site-packages (from spacy>=2.1.4->pyresparser) (23.2)\n",
      "Requirement already satisfied: langcodes<4.0.0,>=3.2.0 in c:\\users\\21cs0\\desktop\\excel sheet data extractor\\extractor_environ\\lib\\site-packages (from spacy>=2.1.4->pyresparser) (3.3.0)\n",
      "Requirement already satisfied: confection<1.0.0,>=0.0.1 in c:\\users\\21cs0\\desktop\\excel sheet data extractor\\extractor_environ\\lib\\site-packages (from thinc>=7.0.4->pyresparser) (0.1.4)\n",
      "Requirement already satisfied: colorama in c:\\users\\21cs0\\desktop\\excel sheet data extractor\\extractor_environ\\lib\\site-packages (from tqdm>=4.32.2->pyresparser) (0.4.6)\n",
      "Requirement already satisfied: cffi>=1.12 in c:\\users\\21cs0\\desktop\\excel sheet data extractor\\extractor_environ\\lib\\site-packages (from cryptography>=36.0.0->pdfminer.six>=20181108->pyresparser) (1.16.0)\n",
      "Requirement already satisfied: annotated-types>=0.4.0 in c:\\users\\21cs0\\desktop\\excel sheet data extractor\\extractor_environ\\lib\\site-packages (from pydantic!=1.8,!=1.8.1,<3.0.0,>=1.7.4->spacy>=2.1.4->pyresparser) (0.6.0)\n",
      "Requirement already satisfied: pydantic-core==2.16.3 in c:\\users\\21cs0\\desktop\\excel sheet data extractor\\extractor_environ\\lib\\site-packages (from pydantic!=1.8,!=1.8.1,<3.0.0,>=1.7.4->spacy>=2.1.4->pyresparser) (2.16.3)\n",
      "Requirement already satisfied: typing-extensions>=4.6.1 in c:\\users\\21cs0\\desktop\\excel sheet data extractor\\extractor_environ\\lib\\site-packages (from pydantic!=1.8,!=1.8.1,<3.0.0,>=1.7.4->spacy>=2.1.4->pyresparser) (4.10.0)\n",
      "Requirement already satisfied: cloudpathlib<0.17.0,>=0.7.0 in c:\\users\\21cs0\\desktop\\excel sheet data extractor\\extractor_environ\\lib\\site-packages (from weasel<0.4.0,>=0.1.0->spacy>=2.1.4->pyresparser) (0.16.0)\n",
      "Requirement already satisfied: MarkupSafe>=2.0 in c:\\users\\21cs0\\desktop\\excel sheet data extractor\\extractor_environ\\lib\\site-packages (from jinja2->spacy>=2.1.4->pyresparser) (2.1.5)\n",
      "Requirement already satisfied: pycparser in c:\\users\\21cs0\\desktop\\excel sheet data extractor\\extractor_environ\\lib\\site-packages (from cffi>=1.12->cryptography>=36.0.0->pdfminer.six>=20181108->pyresparser) (2.21)\n",
      "Requirement already satisfied: spacy in c:\\users\\21cs0\\desktop\\excel sheet data extractor\\extractor_environ\\lib\\site-packages (3.7.4)\n",
      "Requirement already satisfied: spacy-legacy<3.1.0,>=3.0.11 in c:\\users\\21cs0\\desktop\\excel sheet data extractor\\extractor_environ\\lib\\site-packages (from spacy) (3.0.12)\n",
      "Requirement already satisfied: spacy-loggers<2.0.0,>=1.0.0 in c:\\users\\21cs0\\desktop\\excel sheet data extractor\\extractor_environ\\lib\\site-packages (from spacy) (1.0.5)\n",
      "Requirement already satisfied: murmurhash<1.1.0,>=0.28.0 in c:\\users\\21cs0\\desktop\\excel sheet data extractor\\extractor_environ\\lib\\site-packages (from spacy) (1.0.10)\n",
      "Requirement already satisfied: cymem<2.1.0,>=2.0.2 in c:\\users\\21cs0\\desktop\\excel sheet data extractor\\extractor_environ\\lib\\site-packages (from spacy) (2.0.8)\n",
      "Requirement already satisfied: preshed<3.1.0,>=3.0.2 in c:\\users\\21cs0\\desktop\\excel sheet data extractor\\extractor_environ\\lib\\site-packages (from spacy) (3.0.9)\n",
      "Requirement already satisfied: thinc<8.3.0,>=8.2.2 in c:\\users\\21cs0\\desktop\\excel sheet data extractor\\extractor_environ\\lib\\site-packages (from spacy) (8.2.3)\n",
      "Requirement already satisfied: wasabi<1.2.0,>=0.9.1 in c:\\users\\21cs0\\desktop\\excel sheet data extractor\\extractor_environ\\lib\\site-packages (from spacy) (1.1.2)\n",
      "Requirement already satisfied: srsly<3.0.0,>=2.4.3 in c:\\users\\21cs0\\desktop\\excel sheet data extractor\\extractor_environ\\lib\\site-packages (from spacy) (2.4.8)\n",
      "Requirement already satisfied: catalogue<2.1.0,>=2.0.6 in c:\\users\\21cs0\\desktop\\excel sheet data extractor\\extractor_environ\\lib\\site-packages (from spacy) (2.0.10)\n",
      "Requirement already satisfied: weasel<0.4.0,>=0.1.0 in c:\\users\\21cs0\\desktop\\excel sheet data extractor\\extractor_environ\\lib\\site-packages (from spacy) (0.3.4)\n",
      "Requirement already satisfied: typer<0.10.0,>=0.3.0 in c:\\users\\21cs0\\desktop\\excel sheet data extractor\\extractor_environ\\lib\\site-packages (from spacy) (0.9.0)\n",
      "Requirement already satisfied: smart-open<7.0.0,>=5.2.1 in c:\\users\\21cs0\\desktop\\excel sheet data extractor\\extractor_environ\\lib\\site-packages (from spacy) (6.4.0)\n",
      "Requirement already satisfied: tqdm<5.0.0,>=4.38.0 in c:\\users\\21cs0\\desktop\\excel sheet data extractor\\extractor_environ\\lib\\site-packages (from spacy) (4.66.2)\n",
      "Requirement already satisfied: requests<3.0.0,>=2.13.0 in c:\\users\\21cs0\\desktop\\excel sheet data extractor\\extractor_environ\\lib\\site-packages (from spacy) (2.31.0)\n",
      "Requirement already satisfied: pydantic!=1.8,!=1.8.1,<3.0.0,>=1.7.4 in c:\\users\\21cs0\\desktop\\excel sheet data extractor\\extractor_environ\\lib\\site-packages (from spacy) (2.6.2)\n",
      "Requirement already satisfied: jinja2 in c:\\users\\21cs0\\desktop\\excel sheet data extractor\\extractor_environ\\lib\\site-packages (from spacy) (3.1.3)\n",
      "Requirement already satisfied: setuptools in c:\\users\\21cs0\\desktop\\excel sheet data extractor\\extractor_environ\\lib\\site-packages (from spacy) (65.5.0)\n",
      "Requirement already satisfied: packaging>=20.0 in c:\\users\\21cs0\\desktop\\excel sheet data extractor\\extractor_environ\\lib\\site-packages (from spacy) (23.2)\n",
      "Requirement already satisfied: langcodes<4.0.0,>=3.2.0 in c:\\users\\21cs0\\desktop\\excel sheet data extractor\\extractor_environ\\lib\\site-packages (from spacy) (3.3.0)\n",
      "Requirement already satisfied: numpy>=1.19.0 in c:\\users\\21cs0\\desktop\\excel sheet data extractor\\extractor_environ\\lib\\site-packages (from spacy) (1.26.2)\n",
      "Requirement already satisfied: annotated-types>=0.4.0 in c:\\users\\21cs0\\desktop\\excel sheet data extractor\\extractor_environ\\lib\\site-packages (from pydantic!=1.8,!=1.8.1,<3.0.0,>=1.7.4->spacy) (0.6.0)\n",
      "Requirement already satisfied: pydantic-core==2.16.3 in c:\\users\\21cs0\\desktop\\excel sheet data extractor\\extractor_environ\\lib\\site-packages (from pydantic!=1.8,!=1.8.1,<3.0.0,>=1.7.4->spacy) (2.16.3)\n",
      "Requirement already satisfied: typing-extensions>=4.6.1 in c:\\users\\21cs0\\desktop\\excel sheet data extractor\\extractor_environ\\lib\\site-packages (from pydantic!=1.8,!=1.8.1,<3.0.0,>=1.7.4->spacy) (4.10.0)\n",
      "Requirement already satisfied: charset-normalizer<4,>=2 in c:\\users\\21cs0\\desktop\\excel sheet data extractor\\extractor_environ\\lib\\site-packages (from requests<3.0.0,>=2.13.0->spacy) (3.3.2)\n",
      "Requirement already satisfied: idna<4,>=2.5 in c:\\users\\21cs0\\desktop\\excel sheet data extractor\\extractor_environ\\lib\\site-packages (from requests<3.0.0,>=2.13.0->spacy) (3.6)\n",
      "Requirement already satisfied: urllib3<3,>=1.21.1 in c:\\users\\21cs0\\desktop\\excel sheet data extractor\\extractor_environ\\lib\\site-packages (from requests<3.0.0,>=2.13.0->spacy) (2.2.1)\n",
      "Requirement already satisfied: certifi>=2017.4.17 in c:\\users\\21cs0\\desktop\\excel sheet data extractor\\extractor_environ\\lib\\site-packages (from requests<3.0.0,>=2.13.0->spacy) (2024.2.2)\n",
      "Requirement already satisfied: blis<0.8.0,>=0.7.8 in c:\\users\\21cs0\\desktop\\excel sheet data extractor\\extractor_environ\\lib\\site-packages (from thinc<8.3.0,>=8.2.2->spacy) (0.7.11)\n",
      "Requirement already satisfied: confection<1.0.0,>=0.0.1 in c:\\users\\21cs0\\desktop\\excel sheet data extractor\\extractor_environ\\lib\\site-packages (from thinc<8.3.0,>=8.2.2->spacy) (0.1.4)\n",
      "Requirement already satisfied: colorama in c:\\users\\21cs0\\desktop\\excel sheet data extractor\\extractor_environ\\lib\\site-packages (from tqdm<5.0.0,>=4.38.0->spacy) (0.4.6)\n",
      "Requirement already satisfied: click<9.0.0,>=7.1.1 in c:\\users\\21cs0\\desktop\\excel sheet data extractor\\extractor_environ\\lib\\site-packages (from typer<0.10.0,>=0.3.0->spacy) (8.1.7)\n",
      "Requirement already satisfied: cloudpathlib<0.17.0,>=0.7.0 in c:\\users\\21cs0\\desktop\\excel sheet data extractor\\extractor_environ\\lib\\site-packages (from weasel<0.4.0,>=0.1.0->spacy) (0.16.0)\n",
      "Requirement already satisfied: MarkupSafe>=2.0 in c:\\users\\21cs0\\desktop\\excel sheet data extractor\\extractor_environ\\lib\\site-packages (from jinja2->spacy) (2.1.5)\n"
     ]
    }
   ],
   "source": [
    "!pip install pyresparser\n",
    "!pip install spacy"
   ]
  },
  {
   "cell_type": "code",
   "execution_count": 10,
   "metadata": {},
   "outputs": [
    {
     "ename": "LookupError",
     "evalue": "\n**********************************************************************\n  Resource \u001b[93mstopwords\u001b[0m not found.\n  Please use the NLTK Downloader to obtain the resource:\n\n  \u001b[31m>>> import nltk\n  >>> nltk.download('stopwords')\n  \u001b[0m\n  For more information see: https://www.nltk.org/data.html\n\n  Attempted to load \u001b[93mcorpora/stopwords\u001b[0m\n\n  Searched in:\n    - 'C:\\\\Users\\\\21cs0/nltk_data'\n    - 'c:\\\\Users\\\\21cs0\\\\Desktop\\\\Git\\\\Code-Profile-Analyzer\\\\.conda\\\\nltk_data'\n    - 'c:\\\\Users\\\\21cs0\\\\Desktop\\\\Git\\\\Code-Profile-Analyzer\\\\.conda\\\\share\\\\nltk_data'\n    - 'c:\\\\Users\\\\21cs0\\\\Desktop\\\\Git\\\\Code-Profile-Analyzer\\\\.conda\\\\lib\\\\nltk_data'\n    - 'C:\\\\Users\\\\21cs0\\\\AppData\\\\Roaming\\\\nltk_data'\n    - 'C:\\\\nltk_data'\n    - 'D:\\\\nltk_data'\n    - 'E:\\\\nltk_data'\n**********************************************************************\n",
     "output_type": "error",
     "traceback": [
      "\u001b[1;31m---------------------------------------------------------------------------\u001b[0m",
      "\u001b[1;31mLookupError\u001b[0m                               Traceback (most recent call last)",
      "File \u001b[1;32mc:\\Users\\21cs0\\Desktop\\Git\\Code-Profile-Analyzer\\.conda\\lib\\site-packages\\nltk\\corpus\\util.py:84\u001b[0m, in \u001b[0;36mLazyCorpusLoader.__load\u001b[1;34m(self)\u001b[0m\n\u001b[0;32m     83\u001b[0m \u001b[39mtry\u001b[39;00m:\n\u001b[1;32m---> 84\u001b[0m     root \u001b[39m=\u001b[39m nltk\u001b[39m.\u001b[39;49mdata\u001b[39m.\u001b[39;49mfind(\u001b[39mf\u001b[39;49m\u001b[39m\"\u001b[39;49m\u001b[39m{\u001b[39;49;00m\u001b[39mself\u001b[39;49m\u001b[39m.\u001b[39;49msubdir\u001b[39m}\u001b[39;49;00m\u001b[39m/\u001b[39;49m\u001b[39m{\u001b[39;49;00mzip_name\u001b[39m}\u001b[39;49;00m\u001b[39m\"\u001b[39;49m)\n\u001b[0;32m     85\u001b[0m \u001b[39mexcept\u001b[39;00m \u001b[39mLookupError\u001b[39;00m:\n",
      "File \u001b[1;32mc:\\Users\\21cs0\\Desktop\\Git\\Code-Profile-Analyzer\\.conda\\lib\\site-packages\\nltk\\data.py:583\u001b[0m, in \u001b[0;36mfind\u001b[1;34m(resource_name, paths)\u001b[0m\n\u001b[0;32m    582\u001b[0m resource_not_found \u001b[39m=\u001b[39m \u001b[39mf\u001b[39m\u001b[39m\"\u001b[39m\u001b[39m\\n\u001b[39;00m\u001b[39m{\u001b[39;00msep\u001b[39m}\u001b[39;00m\u001b[39m\\n\u001b[39;00m\u001b[39m{\u001b[39;00mmsg\u001b[39m}\u001b[39;00m\u001b[39m\\n\u001b[39;00m\u001b[39m{\u001b[39;00msep\u001b[39m}\u001b[39;00m\u001b[39m\\n\u001b[39;00m\u001b[39m\"\u001b[39m\n\u001b[1;32m--> 583\u001b[0m \u001b[39mraise\u001b[39;00m \u001b[39mLookupError\u001b[39;00m(resource_not_found)\n",
      "\u001b[1;31mLookupError\u001b[0m: \n**********************************************************************\n  Resource \u001b[93mstopwords\u001b[0m not found.\n  Please use the NLTK Downloader to obtain the resource:\n\n  \u001b[31m>>> import nltk\n  >>> nltk.download('stopwords')\n  \u001b[0m\n  For more information see: https://www.nltk.org/data.html\n\n  Attempted to load \u001b[93mcorpora/stopwords.zip/stopwords/\u001b[0m\n\n  Searched in:\n    - 'C:\\\\Users\\\\21cs0/nltk_data'\n    - 'c:\\\\Users\\\\21cs0\\\\Desktop\\\\Git\\\\Code-Profile-Analyzer\\\\.conda\\\\nltk_data'\n    - 'c:\\\\Users\\\\21cs0\\\\Desktop\\\\Git\\\\Code-Profile-Analyzer\\\\.conda\\\\share\\\\nltk_data'\n    - 'c:\\\\Users\\\\21cs0\\\\Desktop\\\\Git\\\\Code-Profile-Analyzer\\\\.conda\\\\lib\\\\nltk_data'\n    - 'C:\\\\Users\\\\21cs0\\\\AppData\\\\Roaming\\\\nltk_data'\n    - 'C:\\\\nltk_data'\n    - 'D:\\\\nltk_data'\n    - 'E:\\\\nltk_data'\n**********************************************************************\n",
      "\nDuring handling of the above exception, another exception occurred:\n",
      "\u001b[1;31mLookupError\u001b[0m                               Traceback (most recent call last)",
      "Cell \u001b[1;32mIn[10], line 1\u001b[0m\n\u001b[1;32m----> 1\u001b[0m \u001b[39mfrom\u001b[39;00m \u001b[39mpyresparser\u001b[39;00m \u001b[39mimport\u001b[39;00m ResumeParser\n\u001b[0;32m      2\u001b[0m data \u001b[39m=\u001b[39m ResumeParser(\u001b[39m'\u001b[39m\u001b[39m./demo.pdf\u001b[39m\u001b[39m'\u001b[39m)\u001b[39m.\u001b[39mget_extracted_data()\n",
      "File \u001b[1;32mc:\\Users\\21cs0\\Desktop\\Git\\Code-Profile-Analyzer\\.conda\\lib\\site-packages\\pyresparser\\__init__.py:1\u001b[0m\n\u001b[1;32m----> 1\u001b[0m \u001b[39mfrom\u001b[39;00m \u001b[39m.\u001b[39;00m \u001b[39mimport\u001b[39;00m utils\n\u001b[0;32m      2\u001b[0m \u001b[39mfrom\u001b[39;00m \u001b[39m.\u001b[39;00m \u001b[39mimport\u001b[39;00m constants\n\u001b[0;32m      3\u001b[0m \u001b[39mfrom\u001b[39;00m \u001b[39m.\u001b[39;00m\u001b[39mresume_parser\u001b[39;00m \u001b[39mimport\u001b[39;00m ResumeParser\n",
      "File \u001b[1;32mc:\\Users\\21cs0\\Desktop\\Git\\Code-Profile-Analyzer\\.conda\\lib\\site-packages\\pyresparser\\utils.py:11\u001b[0m\n\u001b[0;32m      9\u001b[0m \u001b[39mfrom\u001b[39;00m \u001b[39mdatetime\u001b[39;00m \u001b[39mimport\u001b[39;00m datetime\n\u001b[0;32m     10\u001b[0m \u001b[39mfrom\u001b[39;00m \u001b[39mdateutil\u001b[39;00m \u001b[39mimport\u001b[39;00m relativedelta\n\u001b[1;32m---> 11\u001b[0m \u001b[39mfrom\u001b[39;00m \u001b[39m.\u001b[39;00m \u001b[39mimport\u001b[39;00m constants \u001b[39mas\u001b[39;00m cs\n\u001b[0;32m     12\u001b[0m \u001b[39mfrom\u001b[39;00m \u001b[39mpdfminer\u001b[39;00m\u001b[39m.\u001b[39;00m\u001b[39mconverter\u001b[39;00m \u001b[39mimport\u001b[39;00m TextConverter\n\u001b[0;32m     13\u001b[0m \u001b[39mfrom\u001b[39;00m \u001b[39mpdfminer\u001b[39;00m\u001b[39m.\u001b[39;00m\u001b[39mpdfinterp\u001b[39;00m \u001b[39mimport\u001b[39;00m PDFPageInterpreter\n",
      "File \u001b[1;32mc:\\Users\\21cs0\\Desktop\\Git\\Code-Profile-Analyzer\\.conda\\lib\\site-packages\\pyresparser\\constants.py:25\u001b[0m\n\u001b[0;32m     22\u001b[0m MONTH \u001b[39m=\u001b[39m \u001b[39mr\u001b[39m\u001b[39m'\u001b[39m\u001b[39m(\u001b[39m\u001b[39m'\u001b[39m \u001b[39m+\u001b[39m MONTHS_SHORT \u001b[39m+\u001b[39m \u001b[39mr\u001b[39m\u001b[39m'\u001b[39m\u001b[39m|\u001b[39m\u001b[39m'\u001b[39m \u001b[39m+\u001b[39m MONTHS_LONG \u001b[39m+\u001b[39m \u001b[39mr\u001b[39m\u001b[39m'\u001b[39m\u001b[39m)\u001b[39m\u001b[39m'\u001b[39m\n\u001b[0;32m     23\u001b[0m YEAR \u001b[39m=\u001b[39m \u001b[39mr\u001b[39m\u001b[39m'\u001b[39m\u001b[39m(((20|19)(\u001b[39m\u001b[39m\\\u001b[39m\u001b[39md\u001b[39m\u001b[39m{2}\u001b[39;00m\u001b[39m)))\u001b[39m\u001b[39m'\u001b[39m\n\u001b[1;32m---> 25\u001b[0m STOPWORDS \u001b[39m=\u001b[39m \u001b[39mset\u001b[39m(stopwords\u001b[39m.\u001b[39;49mwords(\u001b[39m'\u001b[39m\u001b[39menglish\u001b[39m\u001b[39m'\u001b[39m))\n\u001b[0;32m     27\u001b[0m RESUME_SECTIONS_PROFESSIONAL \u001b[39m=\u001b[39m [\n\u001b[0;32m     28\u001b[0m                     \u001b[39m'\u001b[39m\u001b[39mexperience\u001b[39m\u001b[39m'\u001b[39m,\n\u001b[0;32m     29\u001b[0m                     \u001b[39m'\u001b[39m\u001b[39meducation\u001b[39m\u001b[39m'\u001b[39m,\n\u001b[1;32m   (...)\u001b[0m\n\u001b[0;32m     38\u001b[0m                     \u001b[39m'\u001b[39m\u001b[39mleadership\u001b[39m\u001b[39m'\u001b[39m\n\u001b[0;32m     39\u001b[0m                 ]\n\u001b[0;32m     41\u001b[0m RESUME_SECTIONS_GRAD \u001b[39m=\u001b[39m [\n\u001b[0;32m     42\u001b[0m                     \u001b[39m'\u001b[39m\u001b[39maccomplishments\u001b[39m\u001b[39m'\u001b[39m,\n\u001b[0;32m     43\u001b[0m                     \u001b[39m'\u001b[39m\u001b[39mexperience\u001b[39m\u001b[39m'\u001b[39m,\n\u001b[1;32m   (...)\u001b[0m\n\u001b[0;32m     54\u001b[0m                     \u001b[39m'\u001b[39m\u001b[39mleadership\u001b[39m\u001b[39m'\u001b[39m\n\u001b[0;32m     55\u001b[0m                 ]\n",
      "File \u001b[1;32mc:\\Users\\21cs0\\Desktop\\Git\\Code-Profile-Analyzer\\.conda\\lib\\site-packages\\nltk\\corpus\\util.py:121\u001b[0m, in \u001b[0;36mLazyCorpusLoader.__getattr__\u001b[1;34m(self, attr)\u001b[0m\n\u001b[0;32m    118\u001b[0m \u001b[39mif\u001b[39;00m attr \u001b[39m==\u001b[39m \u001b[39m\"\u001b[39m\u001b[39m__bases__\u001b[39m\u001b[39m\"\u001b[39m:\n\u001b[0;32m    119\u001b[0m     \u001b[39mraise\u001b[39;00m \u001b[39mAttributeError\u001b[39;00m(\u001b[39m\"\u001b[39m\u001b[39mLazyCorpusLoader object has no attribute \u001b[39m\u001b[39m'\u001b[39m\u001b[39m__bases__\u001b[39m\u001b[39m'\u001b[39m\u001b[39m\"\u001b[39m)\n\u001b[1;32m--> 121\u001b[0m \u001b[39mself\u001b[39;49m\u001b[39m.\u001b[39;49m__load()\n\u001b[0;32m    122\u001b[0m \u001b[39m# This looks circular, but its not, since __load() changes our\u001b[39;00m\n\u001b[0;32m    123\u001b[0m \u001b[39m# __class__ to something new:\u001b[39;00m\n\u001b[0;32m    124\u001b[0m \u001b[39mreturn\u001b[39;00m \u001b[39mgetattr\u001b[39m(\u001b[39mself\u001b[39m, attr)\n",
      "File \u001b[1;32mc:\\Users\\21cs0\\Desktop\\Git\\Code-Profile-Analyzer\\.conda\\lib\\site-packages\\nltk\\corpus\\util.py:86\u001b[0m, in \u001b[0;36mLazyCorpusLoader.__load\u001b[1;34m(self)\u001b[0m\n\u001b[0;32m     84\u001b[0m             root \u001b[39m=\u001b[39m nltk\u001b[39m.\u001b[39mdata\u001b[39m.\u001b[39mfind(\u001b[39mf\u001b[39m\u001b[39m\"\u001b[39m\u001b[39m{\u001b[39;00m\u001b[39mself\u001b[39m\u001b[39m.\u001b[39msubdir\u001b[39m}\u001b[39;00m\u001b[39m/\u001b[39m\u001b[39m{\u001b[39;00mzip_name\u001b[39m}\u001b[39;00m\u001b[39m\"\u001b[39m)\n\u001b[0;32m     85\u001b[0m         \u001b[39mexcept\u001b[39;00m \u001b[39mLookupError\u001b[39;00m:\n\u001b[1;32m---> 86\u001b[0m             \u001b[39mraise\u001b[39;00m e\n\u001b[0;32m     88\u001b[0m \u001b[39m# Load the corpus.\u001b[39;00m\n\u001b[0;32m     89\u001b[0m corpus \u001b[39m=\u001b[39m \u001b[39mself\u001b[39m\u001b[39m.\u001b[39m__reader_cls(root, \u001b[39m*\u001b[39m\u001b[39mself\u001b[39m\u001b[39m.\u001b[39m__args, \u001b[39m*\u001b[39m\u001b[39m*\u001b[39m\u001b[39mself\u001b[39m\u001b[39m.\u001b[39m__kwargs)\n",
      "File \u001b[1;32mc:\\Users\\21cs0\\Desktop\\Git\\Code-Profile-Analyzer\\.conda\\lib\\site-packages\\nltk\\corpus\\util.py:81\u001b[0m, in \u001b[0;36mLazyCorpusLoader.__load\u001b[1;34m(self)\u001b[0m\n\u001b[0;32m     79\u001b[0m \u001b[39melse\u001b[39;00m:\n\u001b[0;32m     80\u001b[0m     \u001b[39mtry\u001b[39;00m:\n\u001b[1;32m---> 81\u001b[0m         root \u001b[39m=\u001b[39m nltk\u001b[39m.\u001b[39;49mdata\u001b[39m.\u001b[39;49mfind(\u001b[39mf\u001b[39;49m\u001b[39m\"\u001b[39;49m\u001b[39m{\u001b[39;49;00m\u001b[39mself\u001b[39;49m\u001b[39m.\u001b[39;49msubdir\u001b[39m}\u001b[39;49;00m\u001b[39m/\u001b[39;49m\u001b[39m{\u001b[39;49;00m\u001b[39mself\u001b[39;49m\u001b[39m.\u001b[39;49m__name\u001b[39m}\u001b[39;49;00m\u001b[39m\"\u001b[39;49m)\n\u001b[0;32m     82\u001b[0m     \u001b[39mexcept\u001b[39;00m \u001b[39mLookupError\u001b[39;00m \u001b[39mas\u001b[39;00m e:\n\u001b[0;32m     83\u001b[0m         \u001b[39mtry\u001b[39;00m:\n",
      "File \u001b[1;32mc:\\Users\\21cs0\\Desktop\\Git\\Code-Profile-Analyzer\\.conda\\lib\\site-packages\\nltk\\data.py:583\u001b[0m, in \u001b[0;36mfind\u001b[1;34m(resource_name, paths)\u001b[0m\n\u001b[0;32m    581\u001b[0m sep \u001b[39m=\u001b[39m \u001b[39m\"\u001b[39m\u001b[39m*\u001b[39m\u001b[39m\"\u001b[39m \u001b[39m*\u001b[39m \u001b[39m70\u001b[39m\n\u001b[0;32m    582\u001b[0m resource_not_found \u001b[39m=\u001b[39m \u001b[39mf\u001b[39m\u001b[39m\"\u001b[39m\u001b[39m\\n\u001b[39;00m\u001b[39m{\u001b[39;00msep\u001b[39m}\u001b[39;00m\u001b[39m\\n\u001b[39;00m\u001b[39m{\u001b[39;00mmsg\u001b[39m}\u001b[39;00m\u001b[39m\\n\u001b[39;00m\u001b[39m{\u001b[39;00msep\u001b[39m}\u001b[39;00m\u001b[39m\\n\u001b[39;00m\u001b[39m\"\u001b[39m\n\u001b[1;32m--> 583\u001b[0m \u001b[39mraise\u001b[39;00m \u001b[39mLookupError\u001b[39;00m(resource_not_found)\n",
      "\u001b[1;31mLookupError\u001b[0m: \n**********************************************************************\n  Resource \u001b[93mstopwords\u001b[0m not found.\n  Please use the NLTK Downloader to obtain the resource:\n\n  \u001b[31m>>> import nltk\n  >>> nltk.download('stopwords')\n  \u001b[0m\n  For more information see: https://www.nltk.org/data.html\n\n  Attempted to load \u001b[93mcorpora/stopwords\u001b[0m\n\n  Searched in:\n    - 'C:\\\\Users\\\\21cs0/nltk_data'\n    - 'c:\\\\Users\\\\21cs0\\\\Desktop\\\\Git\\\\Code-Profile-Analyzer\\\\.conda\\\\nltk_data'\n    - 'c:\\\\Users\\\\21cs0\\\\Desktop\\\\Git\\\\Code-Profile-Analyzer\\\\.conda\\\\share\\\\nltk_data'\n    - 'c:\\\\Users\\\\21cs0\\\\Desktop\\\\Git\\\\Code-Profile-Analyzer\\\\.conda\\\\lib\\\\nltk_data'\n    - 'C:\\\\Users\\\\21cs0\\\\AppData\\\\Roaming\\\\nltk_data'\n    - 'C:\\\\nltk_data'\n    - 'D:\\\\nltk_data'\n    - 'E:\\\\nltk_data'\n**********************************************************************\n"
     ]
    }
   ],
   "source": [
    "from pyresparser import ResumeParser\n",
    "data = ResumeParser('./demo.pdf').get_extracted_data()"
   ]
  },
  {
   "cell_type": "code",
   "execution_count": null,
   "metadata": {},
   "outputs": [
    {
     "name": "stdout",
     "output_type": "stream",
     "text": [
      "Requirement already satisfied: nltk in c:\\users\\21cs0\\desktop\\git\\code-profile-analyzer\\.conda\\lib\\site-packages (3.8.1)\n",
      "Requirement already satisfied: click in c:\\users\\21cs0\\desktop\\git\\code-profile-analyzer\\.conda\\lib\\site-packages (from nltk) (8.1.7)\n",
      "Requirement already satisfied: joblib in c:\\users\\21cs0\\desktop\\git\\code-profile-analyzer\\.conda\\lib\\site-packages (from nltk) (1.3.2)\n",
      "Requirement already satisfied: regex>=2021.8.3 in c:\\users\\21cs0\\desktop\\git\\code-profile-analyzer\\.conda\\lib\\site-packages (from nltk) (2023.12.25)\n",
      "Requirement already satisfied: tqdm in c:\\users\\21cs0\\desktop\\git\\code-profile-analyzer\\.conda\\lib\\site-packages (from nltk) (4.66.2)\n",
      "Requirement already satisfied: colorama in c:\\users\\21cs0\\desktop\\git\\code-profile-analyzer\\.conda\\lib\\site-packages (from click->nltk) (0.4.6)\n",
      "Note: you may need to restart the kernel to use updated packages.\n"
     ]
    }
   ],
   "source": [
    "pip install nltk"
   ]
  },
  {
   "cell_type": "code",
   "execution_count": null,
   "metadata": {},
   "outputs": [],
   "source": []
  }
 ],
 "metadata": {
  "kernelspec": {
   "display_name": "Python 3",
   "language": "python",
   "name": "python3"
  },
  "language_info": {
   "codemirror_mode": {
    "name": "ipython",
    "version": 3
   },
   "file_extension": ".py",
   "mimetype": "text/x-python",
   "name": "python",
   "nbconvert_exporter": "python",
   "pygments_lexer": "ipython3",
   "version": "3.10.13"
  },
  "orig_nbformat": 4
 },
 "nbformat": 4,
 "nbformat_minor": 2
}
